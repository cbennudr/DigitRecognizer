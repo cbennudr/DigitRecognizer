{
 "cells": [
  {
   "cell_type": "code",
   "execution_count": null,
   "source": [
    "'''\r\n",
    "https://www.sitepoint.com/keras-digit-recognition-tutorial/\r\n",
    "https://towardsdatascience.com/building-a-convolutional-neural-network-cnn-in-keras-329fbbadc5f5\r\n",
    "\r\n",
    "'''"
   ],
   "outputs": [],
   "metadata": {}
  },
  {
   "cell_type": "code",
   "execution_count": 2,
   "source": [
    "from keras.datasets import mnist\r\n",
    "(X_train, y_train), (X_test, y_test) = mnist.load_data()"
   ],
   "outputs": [],
   "metadata": {}
  },
  {
   "cell_type": "code",
   "execution_count": 3,
   "source": [
    "import matplotlib.pyplot as plt\r\n",
    "print(y_train[2])\r\n",
    "plt.imshow(X_train[5], cmap='Greys')"
   ],
   "outputs": [
    {
     "output_type": "stream",
     "name": "stdout",
     "text": [
      "4\n"
     ]
    },
    {
     "output_type": "execute_result",
     "data": {
      "text/plain": [
       "<matplotlib.image.AxesImage at 0x1612f2f6a60>"
      ]
     },
     "metadata": {},
     "execution_count": 3
    },
    {
     "output_type": "display_data",
     "data": {
      "image/png": "[encoded data removed]",
      "text/plain": [
       "<Figure size 432x288 with 1 Axes>"
      ]
     },
     "metadata": {
      "needs_background": "light"
     }
    }
   ],
   "metadata": {}
  },
  {
   "cell_type": "code",
   "execution_count": 113,
   "source": [
    "print(X_train.shape)\r\n",
    "print(X_test.shape)\r\n",
    "'''\r\n",
    "(60000, 28, 28) - 60,000 datapoints and each is 28x28 pixels\r\n",
    "(10000, 28, 28)\r\n",
    "'''"
   ],
   "outputs": [
    {
     "output_type": "stream",
     "name": "stdout",
     "text": [
      "(60000, 28, 28)\n",
      "(10000, 28, 28)\n"
     ]
    },
    {
     "output_type": "execute_result",
     "data": {
      "text/plain": [
       "'\\n(60000, 28, 28) - 60,000 datapoints and each is 28x28 pixels\\n(10000, 28, 28)\\n'"
      ]
     },
     "metadata": {},
     "execution_count": 113
    }
   ],
   "metadata": {}
  },
  {
   "cell_type": "code",
   "execution_count": 114,
   "source": [
    "#keras needs each image to be formatted like (M x N x 1)\r\n",
    "'''\r\n",
    "Next, we need to reshape our dataset inputs (X_train and X_test) to the shape \r\n",
    "that our model expects when we train the model. The first number is the number\r\n",
    "of images (60,000 for X_train and 10,000 for X_test). Then comes the shape of \r\n",
    "each image (28x28). The last number is 1, which signifies that the images are greyscale.\r\n",
    "'''\r\n",
    "X_train = X_train.reshape(X_train.shape[0], 28, 28, 1)\r\n",
    "X_test = X_test.reshape(X_test.shape[0], 28, 28, 1)\r\n",
    "\r\n",
    "#normalize image data\r\n",
    "X_train = X_train/255\r\n",
    "X_test = X_test/255"
   ],
   "outputs": [],
   "metadata": {}
  },
  {
   "cell_type": "code",
   "execution_count": 115,
   "source": [
    "# make dummies\r\n",
    "from tensorflow.keras.utils import to_categorical\r\n",
    "\r\n",
    "y_train = to_categorical(y_train)\r\n",
    "y_test = to_categorical(y_test)\r\n",
    "print(y_train.shape)"
   ],
   "outputs": [
    {
     "output_type": "stream",
     "name": "stdout",
     "text": [
      "(60000, 10)\n"
     ]
    }
   ],
   "metadata": {}
  },
  {
   "cell_type": "code",
   "execution_count": 99,
   "source": [
    "#cretae the NN\r\n",
    "from keras.models import Sequential\r\n",
    "from keras.layers import Dense, Dropout, Flatten, Conv2D, MaxPooling2D\r\n",
    "\r\n",
    "model = Sequential() #create model obj\r\n",
    "\r\n",
    "#add layers\r\n",
    "model.add(Conv2D(32, kernel_size=(3,3), activation='relu', input_shape=(28, 28, 1)))\r\n",
    "model.add(Conv2D(64, (3, 3), activation='relu'))\r\n",
    "model.add(MaxPooling2D(pool_size=(2, 2)))\r\n",
    "#to avoid overfitting, neurons and their connections are randomly dropped during training\r\n",
    "model.add(Dropout(0.25)) #25% of the neurons are dropped\r\n",
    "#flattening layer which converts previoud hidden layer into a 1D array\r\n",
    "model.add(Flatten())\r\n",
    "model.add(Dense(128, activation='relu'))\r\n",
    "model.add(Dropout(.5))\r\n",
    "    #softmax is used when the data is going to be classified into a number of predecided classes\r\n",
    "model.add(Dense(numDigits, activation='softmax')) \r\n"
   ],
   "outputs": [],
   "metadata": {}
  },
  {
   "cell_type": "code",
   "execution_count": 100,
   "source": [
    "#Specify a loss function, an optimizer function, and a metric to assess model performance\r\n",
    "model.compile(loss='categorical_crossentropy', optimizer='adam', metrics=['accuracy'])"
   ],
   "outputs": [],
   "metadata": {}
  },
  {
   "cell_type": "code",
   "execution_count": 41,
   "source": [
    "#train the model\r\n",
    "    #batch size is the # of samples that will go through the NN at a time\r\n",
    "batch_size = 128\r\n",
    "    #epochs are the number of times the entire dataset is passed forward and backward through the NN\r\n",
    "epochs = 10\r\n",
    "\r\n",
    "model.fit(X_train, y_train, batch_size=batch_size, epochs=epochs, \r\n",
    "                    verbose=1, validation_data=(X_test, y_test))\r\n",
    "score = model.evaluate(X_test, y_test, verbose=0)\r\n",
    "\r\n",
    "print('Test loss: ', score[0])\r\n",
    "print('Test accuracy: ', score[1])\r\n",
    "model.save(\"digit_recognizer_model.h5\")\r\n",
    "'''\r\n",
    "Test loss:  0.029256155714392662\r\n",
    "Test accuracy:  0.9916999936103821\r\n",
    "'''"
   ],
   "outputs": [
    {
     "output_type": "stream",
     "name": "stdout",
     "text": [
      "Epoch 1/10\n",
      "469/469 [==============================] - 48s 101ms/step - loss: 0.2362 - accuracy: 0.9286 - val_loss: 0.0498 - val_accuracy: 0.9849\n",
      "Epoch 2/10\n",
      "469/469 [==============================] - 49s 105ms/step - loss: 0.0838 - accuracy: 0.9751 - val_loss: 0.0398 - val_accuracy: 0.9876\n",
      "Epoch 3/10\n",
      "469/469 [==============================] - 48s 102ms/step - loss: 0.0633 - accuracy: 0.9808 - val_loss: 0.0346 - val_accuracy: 0.9895\n",
      "Epoch 4/10\n",
      "469/469 [==============================] - 46s 99ms/step - loss: 0.0545 - accuracy: 0.9832 - val_loss: 0.0315 - val_accuracy: 0.9896\n",
      "Epoch 5/10\n",
      "469/469 [==============================] - 46s 98ms/step - loss: 0.0467 - accuracy: 0.9855 - val_loss: 0.0294 - val_accuracy: 0.9911\n",
      "Epoch 6/10\n",
      "469/469 [==============================] - 46s 98ms/step - loss: 0.0374 - accuracy: 0.9880 - val_loss: 0.0274 - val_accuracy: 0.9916\n",
      "Epoch 7/10\n",
      "469/469 [==============================] - 46s 98ms/step - loss: 0.0340 - accuracy: 0.9891 - val_loss: 0.0292 - val_accuracy: 0.9913\n",
      "Epoch 8/10\n",
      "469/469 [==============================] - 46s 99ms/step - loss: 0.0318 - accuracy: 0.9899 - val_loss: 0.0279 - val_accuracy: 0.9919\n",
      "Epoch 9/10\n",
      "469/469 [==============================] - 46s 98ms/step - loss: 0.0281 - accuracy: 0.9913 - val_loss: 0.0292 - val_accuracy: 0.9909\n",
      "Epoch 10/10\n",
      "469/469 [==============================] - 46s 97ms/step - loss: 0.0264 - accuracy: 0.9914 - val_loss: 0.0293 - val_accuracy: 0.9917\n",
      "Test loss:  0.029256155714392662\n",
      "Test accuracy:  0.9916999936103821\n"
     ]
    }
   ],
   "metadata": {}
  },
  {
   "cell_type": "markdown",
   "source": [
    "# Experimentation"
   ],
   "metadata": {}
  },
  {
   "cell_type": "code",
   "execution_count": 118,
   "source": [
    "from keras.models import Sequential\r\n",
    "from keras.layers import Dense, Dropout, Flatten, Conv2D, MaxPooling2D\r\n",
    "\r\n",
    "model2 = Sequential() #create model obj\r\n",
    "model2.add(Conv2D(64, kernel_size=(3,3), activation='relu', input_shape=(28, 28, 1)))\r\n",
    "model2.add(Conv2D(32, kernel_size=(3,3), activation='relu'))\r\n",
    "model2.add(Flatten())\r\n",
    "model2.add(Dense(10, activation='softmax')) #output layer needs 10 nodes becasue 10 possible values (0-9)\r\n",
    "\r\n",
    "model2.compile(loss='categorical_crossentropy', optimizer='adam', metrics=['accuracy'])\r\n",
    "\r\n",
    "batch_size = 128\r\n",
    "epochs = 3\r\n",
    "model2.fit(X_train, y_train, batch_size=batch_size, epochs=epochs, \r\n",
    "                    verbose=1, validation_data=(X_test, y_test))\r\n",
    "score = model2.evaluate(X_test, y_test, verbose=0)\r\n",
    "\r\n",
    "print('Test loss: ', score[0])\r\n",
    "print('Test accuracy: ', score[1])\r\n",
    "#.980300"
   ],
   "outputs": [
    {
     "output_type": "stream",
     "name": "stdout",
     "text": [
      "Epoch 1/3\n",
      "469/469 [==============================] - 56s 118ms/step - loss: 0.1911 - accuracy: 0.9449 - val_loss: 0.0606 - val_accuracy: 0.9825\n",
      "Epoch 2/3\n",
      "469/469 [==============================] - 50s 107ms/step - loss: 0.0594 - accuracy: 0.9818 - val_loss: 0.0526 - val_accuracy: 0.9821\n",
      "Epoch 3/3\n",
      "469/469 [==============================] - 53s 113ms/step - loss: 0.0423 - accuracy: 0.9872 - val_loss: 0.0450 - val_accuracy: 0.9842\n",
      "Test loss:  0.04500932991504669\n",
      "Test accuracy:  0.9842000007629395\n"
     ]
    }
   ],
   "metadata": {}
  },
  {
   "cell_type": "code",
   "execution_count": 119,
   "source": [
    "print(model2.predict(X_test[:5]))\r\n",
    "print(y_test[:5])"
   ],
   "outputs": [
    {
     "output_type": "stream",
     "name": "stdout",
     "text": [
      "[[1.3967463e-10 6.2563774e-11 7.1414078e-08 1.2779966e-06 6.3699701e-12\n",
      "  3.9764393e-11 1.4785572e-17 9.9999642e-01 7.6988318e-09 2.0932166e-06]\n",
      " [3.9160337e-08 2.4013059e-07 9.9999774e-01 5.5104419e-09 2.5800515e-14\n",
      "  3.4745090e-10 2.0078314e-06 1.0946730e-15 1.5166405e-08 9.0706671e-14]\n",
      " [5.2220889e-07 9.9912149e-01 4.3478834e-05 1.5230291e-06 1.9862209e-04\n",
      "  8.9471951e-07 1.2195417e-06 3.9125560e-04 2.4016046e-04 8.3304661e-07]\n",
      " [9.9995983e-01 2.8098074e-10 1.9047553e-06 2.4124146e-08 1.6609349e-07\n",
      "  7.8244433e-08 2.7926531e-05 2.2500037e-06 7.6621212e-08 7.8096309e-06]\n",
      " [4.1265751e-09 1.1455385e-10 7.2430650e-10 5.4029242e-10 9.9997950e-01\n",
      "  1.2715740e-12 2.0860307e-10 4.1227302e-08 4.0939252e-08 2.0484038e-05]]\n",
      "[[0. 0. 0. 0. 0. 0. 0. 1. 0. 0.]\n",
      " [0. 0. 1. 0. 0. 0. 0. 0. 0. 0.]\n",
      " [0. 1. 0. 0. 0. 0. 0. 0. 0. 0.]\n",
      " [1. 0. 0. 0. 0. 0. 0. 0. 0. 0.]\n",
      " [0. 0. 0. 0. 1. 0. 0. 0. 0. 0.]]\n"
     ]
    }
   ],
   "metadata": {}
  },
  {
   "cell_type": "code",
   "execution_count": null,
   "source": [],
   "outputs": [],
   "metadata": {}
  }
 ],
 "metadata": {
  "orig_nbformat": 4,
  "language_info": {
   "name": "python",
   "version": "3.9.6",
   "mimetype": "text/x-python",
   "codemirror_mode": {
    "name": "ipython",
    "version": 3
   },
   "pygments_lexer": "ipython3",
   "nbconvert_exporter": "python",
   "file_extension": ".py"
  },
  "kernelspec": {
   "name": "python3",
   "display_name": "Python 3.9.6 64-bit"
  },
  "interpreter": {
   "hash": "d3f5693a50ba4f77d76de97bf5031daef64d83771d220ae2fba131fd9d09e1ec"
  }
 },
 "nbformat": 4,
 "nbformat_minor": 2
}